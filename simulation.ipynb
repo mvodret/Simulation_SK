{
 "cells": [
  {
   "cell_type": "markdown",
   "metadata": {},
   "source": [
    "# Libraries"
   ]
  },
  {
   "cell_type": "code",
   "execution_count": 70,
   "metadata": {},
   "outputs": [],
   "source": [
    "import numpy as np\n",
    "def vol_flow_delta(T,N):\n",
    "    v=np.random.normal(0,1,(N,T))\n",
    "    return v\n",
    "\n",
    "import pandas as pd\n",
    "from scipy.linalg import eigh, cholesky\n",
    "from scipy.stats import norm\n",
    "import scipy.linalg as linalg \n",
    "from scipy.linalg import eigh, cholesky\n",
    "\n",
    "def vol_flow_exp(frequency, T, n):\n",
    "    frequency = frequency\n",
    "    T = T\n",
    "    n = n\n",
    "    gauss= VolFlow(T,n)\n",
    "    corr = (np.fromfunction(lambda i, j: np.exp(-frequency*np.absolute(i-j)), (T, T), dtype=float))\n",
    "    C = corr\n",
    "        \n",
    "    chol = cholesky(C, lower=True)\n",
    "    order_flow =  chol @ gauss.transpose()\n",
    "    return order_flow"
   ]
  },
  {
   "cell_type": "code",
   "execution_count": 71,
   "metadata": {},
   "outputs": [],
   "source": [
    "import matplotlib.pyplot as plt\n",
    "\n",
    "def correlation(x, y, taus):\n",
    "    \"\"\"Inputs :\n",
    "    x: pd.Series\n",
    "    y: pd.Series\n",
    "    taus: array of integers\n",
    "    Returns:\n",
    "    A numpy array containing the correlation function as the average x(t)*y(t+tau)\n",
    "    for each value of tau in taus\"\"\"\n",
    "    def c_group(T):\n",
    "        return (x*y.shift(-T)).mean()\n",
    "    c_g = np.vectorize(c_group)\n",
    "    return c_g(taus)\n",
    "\n",
    "def delta(x):\n",
    "    if x ==0:\n",
    "        return 1;\n",
    "    else: \n",
    "        return 0;\n",
    "    \n",
    "def variogram(x, taus):\n",
    "    \"\"\"Inputs:\n",
    "    x: pd.Series\n",
    "    taus: array of integers\n",
    "    Returns:\n",
    "    A numpy array containing the variogram of x evaluated at each value of tau in taus\"\"\"\n",
    "    def vgram(T):\n",
    "        return (x - x.shift(T)).var()\n",
    "    vgram = np.vectorize(vgram)\n",
    "    return vgram(taus)"
   ]
  },
  {
   "cell_type": "code",
   "execution_count": 168,
   "metadata": {},
   "outputs": [],
   "source": [
    "def Mforecast(tipo, process, param,i,T):\n",
    "        M = []\n",
    "        C_NT_0 = 1\n",
    "        t0 = i\n",
    "        tau_mu = param[0]\n",
    "        tau_NT = param[1]\n",
    "        \n",
    "        if tipo == \"mark\":\n",
    "            if process == \"MU\":\n",
    "                alpha_appo = np.exp(-1/param[0])\n",
    "                C_appo = np.fromfunction(lambda i,j : alpha_appo**np.abs(i-j), (T,T), dtype = float)\n",
    "            if process == \"NT\":\n",
    "                if tau_NT == 0:\n",
    "                    C_appo = np.fromfunction(lambda i,j : np.vectorize(delta)(i-j), (T,T), dtype = np.float)\n",
    "                else:\n",
    "                    alpha_appo = np.exp(-1/param[1])\n",
    "                    C_appo = np.fromfunction(lambda i,j : alpha_appo**np.abs(i-j), (T,T), dtype = float)\n",
    "        \n",
    "        g = np.zeros((T-t0,t0))\n",
    "        for I in range (t0,t0+1):\n",
    "            for J in range (I+1,T+1):\n",
    "                C = C_appo[:J,:J]\n",
    "                current = I\n",
    "                inv_C = np.linalg.inv(C)\n",
    "                inv_C_int = inv_C[I:J-1,I:J-1]\n",
    "                #print(inv_C_int)\n",
    "                inv_inv_C_int = np.linalg.inv(inv_C_int)\n",
    "                delta_inv_C = +inv_C[:,I:J-1].dot(inv_inv_C_int).dot(inv_C[I:J-1,:])\n",
    "                matrix = (inv_C[J-1,J-1]-delta_inv_C[J-1,J-1])**(-1)*(inv_C-delta_inv_C)\n",
    "                M.append(matrix)\n",
    "                g[J-t0-1,:t0] = M[0][J-1,:t0]\n",
    "                M = []\n",
    "            M = []\n",
    "        return g\n",
    "\n",
    "def return_Mfcast_mu_g(T,M1):\n",
    "    e1 = np.asarray(np.zeros(T))\n",
    "    e1[0] = 1\n",
    "    Mfcast_mu_g = np.zeros((T,T))\n",
    "    Mfcast_mu_g[0] = e1\n",
    "    Mfcast_mu_g[1:,:] = M1[:T-1,:T]\n",
    "    return Mfcast_mu_g\n",
    "\n",
    "\n",
    "def return_SumC_mu_final(T,M2):\n",
    "    SumC_mu_final = np.zeros((T,T))\n",
    "    for i in range (0,T):\n",
    "        for j in range (0,T):\n",
    "            if j==0:\n",
    "                SumC_mu_final[i,j] = np.sum(M2[i,:])\n",
    "            if j==1:\n",
    "                SumC_mu_final[i,j] = np.sum(M2[i,:])-M2[i,0]\n",
    "            if j>1:\n",
    "                SumC_mu_final[i,j]  = np.sum(M2[i,:])-np.sum(M2[:,:j][i,:])\n",
    "    return SumC_mu_final\n",
    "\n",
    "\n",
    "def return_G_seed(T,p):\n",
    "    G_0_seed = 1\n",
    "    alpha_G = np.exp(-1/p[0])\n",
    "    G_seed = G_0_seed*np.fromfunction(lambda i,j : alpha_G**np.abs(i-j)*np.heaviside(j-i,1), (T,T),dtype = np.float)\n",
    "    return G_seed\n",
    "\n",
    "\n",
    "def return_st_M(T,m):\n",
    "    M = np.zeros((T,T))\n",
    "    for i in range (0,T):\n",
    "        M[i,i:T] = m[0:T-i]\n",
    "    return M\n",
    "\n",
    "\n",
    "def return_futpast(T,M):\n",
    "    Gfutpast = np.zeros((T,T),dtype = np.float)\n",
    "    for i in range (0,T):\n",
    "        Gfutpast[i,:T-i-1] = M[0,i+1:T]\n",
    "    return Gfutpast"
   ]
  },
  {
   "cell_type": "code",
   "execution_count": 159,
   "metadata": {},
   "outputs": [],
   "source": [
    "def SCI_Numerical_solver_myopic_MARKOV(T,T_it,alpha_mu,alpha_NT, C_mu_0,C_NT_0,G_S):\n",
    "    \n",
    "    critical = []\n",
    "    \n",
    "    \n",
    "    if G_S == []:\n",
    "        G_0_seed = np.float128(1-(1-np.sqrt(1-alpha_mu**2))/alpha_mu**2)\n",
    "        alpha_G = np.float128(alpha_mu)\n",
    "        G_seed = G_0_seed*np.fromfunction(lambda i,j : alpha_mu**np.abs(i-j)*np.heaviside(j-i,1), (T,T),dtype = np.float128)\n",
    "            \n",
    "    else: \n",
    "        G_seed = G_S    \n",
    "    G = G_seed\n",
    "    G_record = np.zeros((T_it+1,T),dtype = np.float128)\n",
    "    G_record[0] = G[0]\n",
    "    \n",
    "    C_mu = C_mu_0* np.fromfunction(lambda i,j : alpha_mu**np.abs(i-j), (T,T), dtype = np.float128)\n",
    "    \n",
    "    \n",
    "    if alpha_NT == 0:\n",
    "        C_NT = C_NT_0* np.fromfunction(lambda i,j : np.vectorize(delta)(i-j), (T,T), dtype = np.float128)\n",
    "    else:\n",
    "        C_NT = C_NT_0* np.fromfunction(lambda i,j : alpha_NT**np.abs(i-j), (T,T), dtype = np.float128)\n",
    "    \n",
    "    L = np.fromfunction(lambda i, j: np.vectorize(delta)(i-j+1), (T,T), dtype = np.float128)\n",
    "\n",
    "    SumC_mu  = np.zeros(T, dtype = np.float128)\n",
    "    for i in range (0,T):\n",
    "            if i==0:\n",
    "                SumC_mu[i] = np.sum(C_mu[0,:])\n",
    "            if i==1:\n",
    "                SumC_mu[i] = np.sum(C_mu[0,:])-C_mu[0,0]\n",
    "            if i>1:\n",
    "                SumC_mu[i]  = np.sum(C_mu[0,:])-np.sum(C_mu[:i,:i][0,:])\n",
    "    SumC_mu = SumC_mu/C_mu_0\n",
    "    \n",
    "    plt.plot(G_seed[0], label = 'seed')\n",
    "    for j in range(0,T_it):\n",
    "        Inv_G_sym = linalg.inv(G+np.transpose(G))\n",
    "        k_mu = alpha_mu * Inv_G_sym.dot(SumC_mu)[0]\n",
    "        K_mu = k_mu *L\n",
    "        k0 = -Inv_G_sym[0,:].dot(np.transpose(G)).dot(C_NT[:,0])*alpha_NT/C_NT_0\n",
    "        K_0 = k0 *L\n",
    "        \n",
    "        #print('K_mu',K_mu)\n",
    "        \n",
    "        Gfutpast = np.zeros((T,T),dtype = np.float128)\n",
    "        \n",
    "        for i in range (0,T):\n",
    "            Gfutpast[i,:T-i-1] = G[0,i+1:T]  \n",
    "        k = -(Inv_G_sym.dot(Gfutpast))[0]\n",
    "        K = np.zeros((T,T),dtype = np.float128)\n",
    "        for i in range (0,T):\n",
    "            K[i,i+1:T] = k[:T-i-1]\n",
    "        \n",
    "        #print('K',K)\n",
    "        Sigma = (np.identity(T)+K_0).dot(C_NT).dot(np.transpose(np.identity(T)+K_0))\n",
    "        g = (linalg.inv(linalg.inv(C_mu)+np.transpose(K_mu).dot(linalg.inv(Sigma)).dot(K_mu)).dot(np.transpose(K_mu)).dot(linalg.inv(Sigma)).dot(np.identity(T)-K)/(1-alpha_mu))[0]\n",
    "        #print('FIlter',g)\n",
    "        \n",
    "        G_record[j+1,:] = np.abs(g)\n",
    "        \n",
    "        G_final = np.zeros((T,T) ,dtype = np.float128)\n",
    "        for i in range (0,T):\n",
    "            G_final[i,i:T] = g[0:T-i] \n",
    "        G = G_final\n",
    "        G_S = G\n",
    "    \n",
    "    plt.plot(G[0],label = 'fixed point')\n",
    "    plt.legend()\n",
    "    plt.show()\n",
    "        \n",
    "        \n",
    "        \n",
    "        \n",
    "    C_TOT = linalg.inv(np.identity(T)-K).dot(Sigma+K_mu.dot(C_mu).dot(np.transpose(K_mu))).dot(np.transpose(linalg.inv(np.identity(T)-K)))\n",
    "    plt.plot(C_TOT[0],label = 'C_Q')\n",
    "    plt.legend()\n",
    "    plt.show()\n",
    "    C_p = G.dot(C_TOT).dot(np.transpose(G))\n",
    "    \n",
    "    D_NT = linalg.inv(np.identity(T)-K).dot(np.identity(T)+K_0)\n",
    "    D_IT_NT = linalg.inv(np.identity(T)-K).dot(K+K_0)\n",
    "    D_mu = linalg.inv(np.identity(T)-K).dot(K_mu)\n",
    "              \n",
    "    return  G,D_NT,D_mu, C_p, C_TOT,D_IT_NT, SumC_mu\n"
   ]
  },
  {
   "cell_type": "code",
   "execution_count": 524,
   "metadata": {},
   "outputs": [],
   "source": [
    "def Numerical_solver_myopic_GENERAL(T,T_it,tipo, param_ampli,param):\n",
    "    \n",
    "    L = np.fromfunction(lambda i, j: np.vectorize(delta)(i-j+1), (T,T), dtype = np.float)\n",
    "    G_seed = return_G_seed(T,param)\n",
    "    G = G_seed\n",
    "    \n",
    "    \n",
    "    G_record = np.zeros((T_it+1,T),dtype = np.float)\n",
    "    G_record[0] = G[0]\n",
    "    \n",
    "    \n",
    "    C_mu_0 = param_ampli[0]\n",
    "    C_NT_0 = param_ampli[1]\n",
    "    \n",
    "    if tipo == \"mark\":\n",
    "        tau_mu = param[0]\n",
    "        tau_NT = param[1]\n",
    "        alpha_mu = np.exp(-1/param[0])\n",
    "       \n",
    "        C_mu = C_mu_0* np.fromfunction(lambda i,j : alpha_mu**np.abs(i-j), (T,T), dtype = np.float)\n",
    "        if tau_NT == 0:\n",
    "            C_NT = C_NT_0* np.fromfunction(lambda i,j : np.vectorize(delta)(i-j), (T,T), dtype = np.float)\n",
    "        else:\n",
    "            alpha_NT = np.exp(-1/param[1])\n",
    "            C_NT = C_NT_0* np.fromfunction(lambda i,j : alpha_NT**np.abs(i-j), (T,T), dtype = np.float)\n",
    "    \n",
    "    \n",
    "    Mfcast_mu = -np.transpose(np.flip(Mforecast(tipo,\"MU\",param,T,2*T),1))\n",
    "    Mfcast_nt = -np.flip(Mforecast(tipo, \"NT\",param,T,2*T),1).dot(L)\n",
    "    #print('fcastNT',np.flip(Mforecast(tipo, \"NT\",param,T,2*T),1).dot(L))\n",
    "    \n",
    "    appo = np.transpose(Mfcast_mu)\n",
    "    Mfcast_mu_g = return_Mfcast_mu_g(T,appo)\n",
    "    SumC_mu_final = return_SumC_mu_final(T,Mfcast_mu)\n",
    "    \n",
    "    ##print('SumC_mu_final',SumC_mu_final)\n",
    "    for j in range(0,T_it):\n",
    "        Inv_G_sym = np.linalg.inv(G+np.transpose(G))\n",
    "        \n",
    "        ##print('INV_G_SYM',Inv_G_sym)\n",
    "        k_mu = Inv_G_sym.dot(np.transpose(SumC_mu_final))[0].dot(L)\n",
    "        K_mu = return_st_M(T,k_mu)\n",
    "        \n",
    "        ##print('K_mu',K_mu)\n",
    "        k0 = -Inv_G_sym[0,:].dot(np.transpose(G)).dot(Mfcast_nt)\n",
    "        K_0 = return_st_M(T,k0)\n",
    "        \n",
    "    \n",
    "        Gfutpast = return_futpast(T,G)\n",
    "        \n",
    "        k = -(Inv_G_sym.dot(Gfutpast))[0]\n",
    "        K = return_st_M(T,k).dot(L)\n",
    "        \n",
    "        \n",
    "        #print('K_mu',K_mu)\n",
    "        #print('K',K)\n",
    "        #print('K_0',K_0)\n",
    "        #print('C_mu',C_mu)\n",
    "        #print('C_NT',C_NT)\n",
    "        \n",
    "        \n",
    "        Sigma = (np.identity(T)+K_0).dot(C_NT).dot(np.transpose(np.identity(T)+K_0))\n",
    "        \n",
    "        #print('Sigma',Sigma)\n",
    "        ##print((np.linalg.inv(np.linalg.inv(C_mu)+np.transpose(K_mu).dot(np.linalg.inv(Sigma)).dot(K_mu))).dot(np.transpose(K_mu)))\n",
    "        Filter_mu = (np.linalg.inv(np.linalg.inv(C_mu)+np.transpose(K_mu).dot(np.linalg.inv(Sigma)).dot(K_mu)).dot(np.transpose(K_mu)).dot(np.linalg.inv(Sigma)).dot(np.identity(T)-K))\n",
    "        \n",
    "        #print('Sigma',Sigma)\n",
    "        #print('Filter_mu',Filter_mu)\n",
    "        g_final  = Mfcast_mu_g.dot(Filter_mu)#*C_mu_0/(1-alpha_mu)\n",
    "        #print('Mfcast_mu_g',Mfcast_mu_g)\n",
    "        #print('g_final',g_final)\n",
    "        \n",
    "        appo = np.sum(g_final,axis = 0)\n",
    "        g = appo\n",
    "        \n",
    "        #print('g',g)\n",
    "        ##print('R',K)\n",
    "        ##print('K_mu',K_mu)\n",
    "        ##print('K_0',K_0)\n",
    "        ##print('Sigma',Sigma)\n",
    "        ##print('Filter_mu',Filter_mu)\n",
    "        \n",
    "        #G_record[j+1,:] = g\n",
    "    \n",
    "        G_final = return_st_M(T,g)\n",
    "        \n",
    "        G = G_final\n",
    "        \n",
    "    \n",
    "    C_IT = np.linalg.inv(np.identity(T)-K).dot((K+K_0).dot(C_NT).dot(np.transpose(K+K_0))+K_mu.dot(C_mu).dot(np.transpose(K_mu))).dot(np.transpose(np.linalg.inv(np.identity(T)-K)))\n",
    "        \n",
    "    C_TOT = linalg.inv(np.identity(T)-K).dot((np.identity(T)+K_0).dot(C_NT).dot(np.transpose(np.identity(T)+K_0))+K_mu.dot(C_mu).dot(np.transpose(K_mu))).dot(np.transpose(np.linalg.inv(np.identity(T)-K)))\n",
    "    \n",
    "    inv_C_tot = np.linalg.inv(C_TOT)\n",
    "    C_p = G.dot(C_TOT).dot(np.transpose(G))\n",
    "    C_p_IT = np.transpose(SumC_mu_final).dot(L).dot(C_mu).dot(np.transpose(L)).dot(SumC_mu_final)\n",
    "    C_p_best = np.transpose(SumC_mu_final).dot(C_mu).dot(SumC_mu_final)\n",
    "    \n",
    "    D_NT = linalg.inv(np.identity(T)-K).dot(np.identity(T)+K_0)\n",
    "    D_IT_NT = linalg.inv(np.identity(T)-K).dot(K+K_0)\n",
    "    D_mu = linalg.inv(np.identity(T)-K).dot(K_mu)\n",
    "    \n",
    "    return G,D_NT,D_mu, C_p, C_TOT,D_IT_NT, SumC_mu_final\n",
    "    \n"
   ]
  },
  {
   "cell_type": "code",
   "execution_count": null,
   "metadata": {},
   "outputs": [],
   "source": [
    "def Compute_corr(df,T_corr,n):\n",
    "    Corr = np.zeros(T_corr)\n",
    "    for i in range(0,n):\n",
    "        Corr+= correlation(df[i],df[i],np.arange(0,T_corr))/n\n",
    "    return Corr"
   ]
  },
  {
   "cell_type": "code",
   "execution_count": null,
   "metadata": {},
   "outputs": [],
   "source": [
    "def Compute_xcorr(df1,df2,T_corr,n):\n",
    "    Corr = np.zeros(T_corr)\n",
    "    for i in range(0,n):\n",
    "        Corr+= correlation(df1[i],df2[i],np.arange(0,T_corr))/n\n",
    "    return Corr"
   ]
  },
  {
   "cell_type": "markdown",
   "metadata": {},
   "source": [
    "# Params "
   ]
  },
  {
   "cell_type": "code",
   "execution_count": 543,
   "metadata": {},
   "outputs": [],
   "source": [
    "n = 2000\n",
    "T = 300\n",
    "T_corr = 100\n",
    "\n",
    "tipo = 'mark'\n",
    "tau_mu = 5\n",
    "frequency_mu = 1/tau_mu\n",
    "alpha_mu = np.exp(-1/tau_mu)\n",
    "tau_NT = 3\n",
    "if tau_NT == 0:\n",
    "    alpha_NT = 0\n",
    "else:\n",
    "    alpha_NT = np.exp(-1/tau_NT)\n",
    "C_mu_0 = ((1-alpha_mu)/alpha_mu)**2\n",
    "C_NT_0 = 1\n",
    "param = [tau_mu,tau_NT]\n",
    "param_ampli = [C_mu_0,C_NT_0]"
   ]
  },
  {
   "cell_type": "code",
   "execution_count": 544,
   "metadata": {},
   "outputs": [],
   "source": [
    "T_it = 100\n",
    "G,D_NT,D_mu,C_p,C_tot,D_IT_NT,SumC_mu =  Numerical_solver_myopic_GENERAL(T+1,T_it,tipo, param_ampli,param)"
   ]
  },
  {
   "cell_type": "code",
   "execution_count": 546,
   "metadata": {},
   "outputs": [],
   "source": [
    "mu_flow = np.sqrt(C_mu_0)*pd.DataFrame(vol_flow_exp(frequency_mu,T+1,n))\n",
    "if tau_NT == 0:\n",
    "    NT_flow = np.sqrt(C_NT_0)*pd.DataFrame(vol_flow_delta(T+1,n)).transpose()\n",
    "else:\n",
    "    NT_flow = np.sqrt(C_NT_0)*pd.DataFrame(vol_flow_exp(1/tau_NT,T+1,n))\n",
    "TOT_flow = pd.DataFrame(D_NT.dot(NT_flow)+ D_mu.dot(mu_flow) )\n",
    "IT_flow = pd.DataFrame(D_IT_NT.dot(NT_flow)+ D_mu.dot(mu_flow) )\n",
    "P_flow = pd.DataFrame(G.dot(TOT_flow))"
   ]
  },
  {
   "cell_type": "code",
   "execution_count": 547,
   "metadata": {},
   "outputs": [],
   "source": [
    "p_F_flow = (SumC_mu.transpose()[0][0]*mu_flow).shift(-1).dropna()\n",
    "p_F_flow = p_F_flow.reset_index()\n",
    "p_F_flow = p_F_flow.drop(columns = 'index')"
   ]
  },
  {
   "cell_type": "code",
   "execution_count": 548,
   "metadata": {},
   "outputs": [],
   "source": [
    "TOT_flow = TOT_flow[:-1].reset_index().drop(columns = 'index')\n",
    "IT_flow = IT_flow[:-1].reset_index().drop(columns = 'index')\n",
    "NT_flow = NT_flow[:-1].reset_index().drop(columns = 'index')\n",
    "P_flow = P_flow[:-1].reset_index().drop(columns = 'index')"
   ]
  },
  {
   "cell_type": "markdown",
   "metadata": {},
   "source": [
    "%% latex\n",
    "\n",
    "tracking price"
   ]
  },
  {
   "cell_type": "code",
   "execution_count": 549,
   "metadata": {},
   "outputs": [
    {
     "data": {
      "image/png": "[encoded data removed]",
      "text/plain": [
       "<Figure size 432x288 with 1 Axes>"
      ]
     },
     "metadata": {
      "needs_background": "light"
     },
     "output_type": "display_data"
    }
   ],
   "source": [
    "p_F_flow[10].plot(label = 'IT estimate of the fund price')\n",
    "P_flow[10].plot(label = 'MM estimate of the fund price')\n",
    "plt.legend()\n",
    "plt.show()"
   ]
  },
  {
   "cell_type": "code",
   "execution_count": 550,
   "metadata": {},
   "outputs": [],
   "source": [
    "S_flow = P_flow-p_F_flow"
   ]
  },
  {
   "cell_type": "markdown",
   "metadata": {},
   "source": [
    "%%latex\n",
    "\n",
    "Check that $\\langle p_t(p^F_t-p_t) \\rangle = 0$"
   ]
  },
  {
   "cell_type": "code",
   "execution_count": 551,
   "metadata": {},
   "outputs": [
    {
     "data": {
      "text/plain": [
       "0.0005381940814277621"
      ]
     },
     "execution_count": 551,
     "metadata": {},
     "output_type": "execute_result"
    }
   ],
   "source": [
    "cross = S_flow*P_flow\n",
    "avg_cross = 0\n",
    "for i in range(0,n):\n",
    "    avg_cross += cross[i][:-100].mean()/n\n",
    "avg_cross"
   ]
  },
  {
   "cell_type": "markdown",
   "metadata": {},
   "source": [
    "%% latex\n",
    "\n",
    "Check that $\\langle C^F_{t-t'}\\rangle  = \\langle C^p_{t-t'} + C^{err}_{t-t'}+C^{mix,1}_{t-t'}+C^{mix,2}_{t-t'}\\rangle$"
   ]
  },
  {
   "cell_type": "code",
   "execution_count": 552,
   "metadata": {},
   "outputs": [],
   "source": [
    "appox = Compute_xcorr(P_flow[:-100],-S_flow[:-100],T_corr,n)\n",
    "appomenox = Compute_xcorr(-S_flow[:-100],P_flow[:-100],T_corr,n)\n",
    "appoP = Compute_corr(P_flow[:-100],T_corr,n)\n",
    "appoS = Compute_corr(S_flow[:-100],T_corr,n)"
   ]
  },
  {
   "cell_type": "code",
   "execution_count": 535,
   "metadata": {},
   "outputs": [
    {
     "data": {
      "text/plain": [
       "[<matplotlib.lines.Line2D at 0x7fa683269e20>]"
      ]
     },
     "execution_count": 535,
     "metadata": {},
     "output_type": "execute_result"
    },
    {
     "data": {
      "image/png": "[encoded data removed]",
      "text/plain": [
       "<Figure size 432x288 with 1 Axes>"
      ]
     },
     "metadata": {
      "needs_background": "light"
     },
     "output_type": "display_data"
    }
   ],
   "source": [
    "plt.plot(appoP+appoS+appox+appomenox)\n",
    "plt.plot(C_mu/C_mu[0])"
   ]
  },
  {
   "cell_type": "markdown",
   "metadata": {},
   "source": [
    "%% latex\n",
    "\n",
    "Check the gain of the different players, in particular in this case (Markovian with white noise) I know that\n",
    "\n",
    "$gain_{NT} = -\\langle q^{NT}_t(p_t-p^F_t) \\rangle = -G_0$"
   ]
  },
  {
   "cell_type": "code",
   "execution_count": 536,
   "metadata": {},
   "outputs": [],
   "source": [
    "cash_MM_flow = TOT_flow*S_flow\n",
    "cash_IT_flow = -IT_flow*S_flow\n",
    "cash_NT_flow = -NT_flow*S_flow"
   ]
  },
  {
   "cell_type": "code",
   "execution_count": 541,
   "metadata": {},
   "outputs": [
    {
     "name": "stdout",
     "output_type": "stream",
     "text": [
      " avg_cash_MM -0.0018548648894398253 \n",
      " avg_cash_IT 0.36708716247611856 \n",
      " avg_cash_NT -0.36523229758667886 \n",
      " G_0 0.36474767574652306\n"
     ]
    }
   ],
   "source": [
    "avg_cash_MM = 0\n",
    "avg_cash_IT = 0\n",
    "avg_cash_NT = 0\n",
    "for i in range(0,n):\n",
    "    avg_cash_MM += cash_MM_flow[i][:-100].mean()/n\n",
    "    avg_cash_IT += cash_IT_flow[i][:-100].mean()/n\n",
    "    avg_cash_NT += cash_NT_flow[i][:-100].mean()/n\n",
    "print(' avg_cash_MM',avg_cash_MM,'\\n avg_cash_IT',avg_cash_IT,'\\n avg_cash_NT',avg_cash_NT,'\\n G_0',G[0,0])"
   ]
  }
 ],
 "metadata": {
  "kernelspec": {
   "display_name": "Python 3",
   "language": "python",
   "name": "python3"
  },
  "language_info": {
   "codemirror_mode": {
    "name": "ipython",
    "version": 3
   },
   "file_extension": ".py",
   "mimetype": "text/x-python",
   "name": "python",
   "nbconvert_exporter": "python",
   "pygments_lexer": "ipython3",
   "version": "3.8.5"
  }
 },
 "nbformat": 4,
 "nbformat_minor": 4
}
